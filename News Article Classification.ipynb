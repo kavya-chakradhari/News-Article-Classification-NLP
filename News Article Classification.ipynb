{
 "cells": [
  {
   "cell_type": "markdown",
   "id": "2008a4bc-e098-4541-96b5-01106e24e7c3",
   "metadata": {},
   "source": [
    "# NLP Project 2"
   ]
  },
  {
   "cell_type": "markdown",
   "id": "02077b19-00ca-431d-b4bd-af42d15746d0",
   "metadata": {},
   "source": [
    "## News Article Classification"
   ]
  },
  {
   "cell_type": "markdown",
   "id": "533f3cbe-70c1-4217-b2f8-58bc5cdb15b0",
   "metadata": {},
   "source": [
    "###  Introduction\n",
    "\n",
    "In today’s digital world, news articles are constantly being generated and shared across\n",
    " different platforms. For news organizations, social media platforms, and aggregators,\n",
    " classifying articles into specific categories such as sports, politics, and technology can help\n",
    " improve content management and recommendation systems. This project aims to develop a\n",
    " machine learning model that can classify news articles into predefined categories, such as\n",
    " sports, politics, and technology, based on their content.\n",
    " By automating this process, organizations can efficiently categorize large volumes of news\n",
    " articles, making it easier for readers to access relevant information based on their interests."
   ]
  },
  {
   "cell_type": "markdown",
   "id": "3b432c46-24a1-4747-8d1d-d31958c677a6",
   "metadata": {},
   "source": [
    "### Problem Statement\n",
    " The primary objective of the project is to build a classification model that can automatically\n",
    " categorize news articles into different predefined categories. The model is trained using\n",
    " a labeled dataset of news articles and output the most likely category (e.g., sports,\n",
    " politics, or technology) for any given article."
   ]
  },
  {
   "cell_type": "markdown",
   "id": "e22d9ff4-8a67-411f-8e07-89fc384861dd",
   "metadata": {},
   "source": [
    "### Data loading , EDA and Preprocessing"
   ]
  },
  {
   "cell_type": "code",
   "execution_count": 1,
   "id": "0eb333af-0639-405f-a17a-e45d027921a4",
   "metadata": {},
   "outputs": [],
   "source": [
    "import pandas as pd\n",
    "import numpy as np\n",
    "import seaborn as sns\n",
    "import matplotlib.pyplot as plt\n",
    "\n",
    "import nltk\n",
    "import re\n",
    "from nltk.corpus import stopwords\n",
    "from nltk.stem import WordNetLemmatizer\n",
    "from sklearn.model_selection import train_test_split\n",
    "from sklearn.feature_extraction.text import TfidfVectorizer , CountVectorizer\n",
    "from sklearn.linear_model import LogisticRegression\n",
    "from sklearn.naive_bayes import MultinomialNB\n",
    "from sklearn.svm import SVC\n",
    "from sklearn.metrics import classification_report, accuracy_score, confusion_matrix\n"
   ]
  },
  {
   "cell_type": "code",
   "execution_count": 3,
   "id": "9d1ec275-b1c6-45e1-a10f-37f9c661ceaf",
   "metadata": {},
   "outputs": [],
   "source": [
    "# Load the dataset\n",
    "df = pd.read_csv(\"data_news.csv\")"
   ]
  },
  {
   "cell_type": "code",
   "execution_count": 5,
   "id": "8748dba3-df94-4de3-8299-be065eba0392",
   "metadata": {},
   "outputs": [
    {
     "data": {
      "text/html": [
       "<div>\n",
       "<style scoped>\n",
       "    .dataframe tbody tr th:only-of-type {\n",
       "        vertical-align: middle;\n",
       "    }\n",
       "\n",
       "    .dataframe tbody tr th {\n",
       "        vertical-align: top;\n",
       "    }\n",
       "\n",
       "    .dataframe thead th {\n",
       "        text-align: right;\n",
       "    }\n",
       "</style>\n",
       "<table border=\"1\" class=\"dataframe\">\n",
       "  <thead>\n",
       "    <tr style=\"text-align: right;\">\n",
       "      <th></th>\n",
       "      <th>category</th>\n",
       "      <th>headline</th>\n",
       "      <th>links</th>\n",
       "      <th>short_description</th>\n",
       "      <th>keywords</th>\n",
       "    </tr>\n",
       "  </thead>\n",
       "  <tbody>\n",
       "    <tr>\n",
       "      <th>0</th>\n",
       "      <td>WELLNESS</td>\n",
       "      <td>143 Miles in 35 Days: Lessons Learned</td>\n",
       "      <td>https://www.huffingtonpost.com/entry/running-l...</td>\n",
       "      <td>Resting is part of training. I've confirmed wh...</td>\n",
       "      <td>running-lessons</td>\n",
       "    </tr>\n",
       "    <tr>\n",
       "      <th>1</th>\n",
       "      <td>WELLNESS</td>\n",
       "      <td>Talking to Yourself: Crazy or Crazy Helpful?</td>\n",
       "      <td>https://www.huffingtonpost.com/entry/talking-t...</td>\n",
       "      <td>Think of talking to yourself as a tool to coac...</td>\n",
       "      <td>talking-to-yourself-crazy</td>\n",
       "    </tr>\n",
       "    <tr>\n",
       "      <th>2</th>\n",
       "      <td>WELLNESS</td>\n",
       "      <td>Crenezumab: Trial Will Gauge Whether Alzheimer...</td>\n",
       "      <td>https://www.huffingtonpost.com/entry/crenezuma...</td>\n",
       "      <td>The clock is ticking for the United States to ...</td>\n",
       "      <td>crenezumab-alzheimers-disease-drug</td>\n",
       "    </tr>\n",
       "    <tr>\n",
       "      <th>3</th>\n",
       "      <td>WELLNESS</td>\n",
       "      <td>Oh, What a Difference She Made</td>\n",
       "      <td>https://www.huffingtonpost.com/entry/meaningfu...</td>\n",
       "      <td>If you want to be busy, keep trying to be perf...</td>\n",
       "      <td>meaningful-life</td>\n",
       "    </tr>\n",
       "    <tr>\n",
       "      <th>4</th>\n",
       "      <td>WELLNESS</td>\n",
       "      <td>Green Superfoods</td>\n",
       "      <td>https://www.huffingtonpost.com/entry/green-sup...</td>\n",
       "      <td>First, the bad news: Soda bread, corned beef a...</td>\n",
       "      <td>green-superfoods</td>\n",
       "    </tr>\n",
       "  </tbody>\n",
       "</table>\n",
       "</div>"
      ],
      "text/plain": [
       "   category                                           headline  \\\n",
       "0  WELLNESS              143 Miles in 35 Days: Lessons Learned   \n",
       "1  WELLNESS       Talking to Yourself: Crazy or Crazy Helpful?   \n",
       "2  WELLNESS  Crenezumab: Trial Will Gauge Whether Alzheimer...   \n",
       "3  WELLNESS                     Oh, What a Difference She Made   \n",
       "4  WELLNESS                                   Green Superfoods   \n",
       "\n",
       "                                               links  \\\n",
       "0  https://www.huffingtonpost.com/entry/running-l...   \n",
       "1  https://www.huffingtonpost.com/entry/talking-t...   \n",
       "2  https://www.huffingtonpost.com/entry/crenezuma...   \n",
       "3  https://www.huffingtonpost.com/entry/meaningfu...   \n",
       "4  https://www.huffingtonpost.com/entry/green-sup...   \n",
       "\n",
       "                                   short_description  \\\n",
       "0  Resting is part of training. I've confirmed wh...   \n",
       "1  Think of talking to yourself as a tool to coac...   \n",
       "2  The clock is ticking for the United States to ...   \n",
       "3  If you want to be busy, keep trying to be perf...   \n",
       "4  First, the bad news: Soda bread, corned beef a...   \n",
       "\n",
       "                             keywords  \n",
       "0                     running-lessons  \n",
       "1           talking-to-yourself-crazy  \n",
       "2  crenezumab-alzheimers-disease-drug  \n",
       "3                     meaningful-life  \n",
       "4                    green-superfoods  "
      ]
     },
     "execution_count": 5,
     "metadata": {},
     "output_type": "execute_result"
    }
   ],
   "source": [
    "df.head()"
   ]
  },
  {
   "cell_type": "code",
   "execution_count": 7,
   "id": "b7114376-1ab9-44bf-8b5c-49b70c5ea445",
   "metadata": {},
   "outputs": [
    {
     "data": {
      "text/plain": [
       "(50000, 5)"
      ]
     },
     "execution_count": 7,
     "metadata": {},
     "output_type": "execute_result"
    }
   ],
   "source": [
    "df.shape"
   ]
  },
  {
   "cell_type": "code",
   "execution_count": 9,
   "id": "19ad8430-4e25-42f9-9375-e14f064ba3ff",
   "metadata": {},
   "outputs": [
    {
     "name": "stdout",
     "output_type": "stream",
     "text": [
      "<class 'pandas.core.frame.DataFrame'>\n",
      "RangeIndex: 50000 entries, 0 to 49999\n",
      "Data columns (total 5 columns):\n",
      " #   Column             Non-Null Count  Dtype \n",
      "---  ------             --------------  ----- \n",
      " 0   category           50000 non-null  object\n",
      " 1   headline           50000 non-null  object\n",
      " 2   links              50000 non-null  object\n",
      " 3   short_description  50000 non-null  object\n",
      " 4   keywords           47332 non-null  object\n",
      "dtypes: object(5)\n",
      "memory usage: 1.9+ MB\n"
     ]
    }
   ],
   "source": [
    "df.info()"
   ]
  },
  {
   "cell_type": "code",
   "execution_count": 11,
   "id": "f2e28f8d-84f1-462e-b3fe-7f3564c52da0",
   "metadata": {},
   "outputs": [
    {
     "data": {
      "text/plain": [
       "category                0\n",
       "headline                0\n",
       "links                   0\n",
       "short_description       0\n",
       "keywords             2668\n",
       "dtype: int64"
      ]
     },
     "execution_count": 11,
     "metadata": {},
     "output_type": "execute_result"
    }
   ],
   "source": [
    "df.isnull().sum()"
   ]
  },
  {
   "cell_type": "code",
   "execution_count": 13,
   "id": "ea12f32d-e03a-4c34-a4ec-8412083e2df4",
   "metadata": {},
   "outputs": [],
   "source": [
    "''' Encountered 2668 null values out of 50000 in the classification project , its a significant but manageable issue. \n",
    "    As it represents only 5.3% of your data.'''\n",
    "\n",
    "df.dropna(subset = [\"keywords\"], inplace=True )\n"
   ]
  },
  {
   "cell_type": "code",
   "execution_count": 15,
   "id": "5ed6314b-8540-4d7d-bb68-fa86378b43bd",
   "metadata": {},
   "outputs": [
    {
     "data": {
      "text/plain": [
       "category             0\n",
       "headline             0\n",
       "links                0\n",
       "short_description    0\n",
       "keywords             0\n",
       "dtype: int64"
      ]
     },
     "execution_count": 15,
     "metadata": {},
     "output_type": "execute_result"
    }
   ],
   "source": [
    "df.isnull().sum()"
   ]
  },
  {
   "cell_type": "code",
   "execution_count": 17,
   "id": "04f10800-ef83-497d-a847-4f24c8186f5f",
   "metadata": {},
   "outputs": [
    {
     "data": {
      "text/plain": [
       "(47332, 5)"
      ]
     },
     "execution_count": 17,
     "metadata": {},
     "output_type": "execute_result"
    }
   ],
   "source": [
    "df.shape"
   ]
  },
  {
   "cell_type": "code",
   "execution_count": 19,
   "id": "e990a7b5-9955-423f-a997-48bed11b8c7b",
   "metadata": {},
   "outputs": [
    {
     "name": "stderr",
     "output_type": "stream",
     "text": [
      "C:\\Users\\mayan\\AppData\\Local\\Temp\\ipykernel_24900\\1595630391.py:4: FutureWarning: \n",
      "\n",
      "Passing `palette` without assigning `hue` is deprecated and will be removed in v0.14.0. Assign the `x` variable to `hue` and set `legend=False` for the same effect.\n",
      "\n",
      "  sns.countplot(data=df, x='category',palette = 'pastel')\n"
     ]
    },
    {
     "data": {
      "image/png": "[encoded data removed]",
      "text/plain": [
       "<Figure size 1000x600 with 1 Axes>"
      ]
     },
     "metadata": {},
     "output_type": "display_data"
    }
   ],
   "source": [
    "# Visualization of category distribution\n",
    "\n",
    "plt.figure(figsize=(10, 6))\n",
    "sns.countplot(data=df, x='category',palette = 'pastel')\n",
    "plt.title('Distribution of News Categories')\n",
    "plt.xlabel('Category')\n",
    "plt.ylabel('Number of Articles')\n",
    "plt.xticks(rotation=45, ha='right')\n",
    "plt.tight_layout()\n",
    "plt.show()"
   ]
  },
  {
   "cell_type": "markdown",
   "id": "f12edcd8-1a33-48ab-b4f8-0627c157e630",
   "metadata": {},
   "source": [
    "### Key finding \n",
    "\n",
    "* The distribution of articles across categories is relatively uniform with each category having between 4500 to 5000 articles.\n",
    "* This balanced dataset helps avoid bias during model training and contributes to more fair and accurate classification performance."
   ]
  },
  {
   "cell_type": "code",
   "execution_count": 22,
   "id": "6024e7ca-d97d-4331-a0f2-c71d0f94f50f",
   "metadata": {},
   "outputs": [],
   "source": [
    "#     combining both headline and short description\n",
    "\n",
    "df[\"combined_text\"] = df[\"headline\"] + \" \" + df[\"short_description\"]"
   ]
  },
  {
   "cell_type": "code",
   "execution_count": 24,
   "id": "f00a8bcd-7c50-4be0-b400-a24353a2b445",
   "metadata": {},
   "outputs": [
    {
     "data": {
      "text/plain": [
       "'Talking to Yourself: Crazy or Crazy Helpful? Think of talking to yourself as a tool to coach yourself through a challenge, or to narrate your own experiences to yourself. In any case, treat yourself with respect and you just may find you enjoy your own company.'"
      ]
     },
     "execution_count": 24,
     "metadata": {},
     "output_type": "execute_result"
    }
   ],
   "source": [
    "df[\"combined_text\"][1]"
   ]
  },
  {
   "cell_type": "code",
   "execution_count": 26,
   "id": "bd0af1fd-18ef-4342-b845-3499aa8b386f",
   "metadata": {},
   "outputs": [],
   "source": [
    "#      Preprocessing the data\n",
    "\n",
    "stop_words = set(stopwords.words('english'))\n",
    "\n",
    "def processed_text(text):\n",
    "    text = text.lower()\n",
    "    text= re.sub( r'[^\\w\\s]',' ',text)\n",
    "    tokens = text.split()\n",
    "    tokens = [ WordNetLemmatizer().lemmatize(word) for word in tokens if word not in stop_words ]\n",
    "    return ' '.join(tokens)\n",
    "\n",
    "df[\"processed_text\"] = df[\"combined_text\"].apply(processed_text)"
   ]
  },
  {
   "cell_type": "code",
   "execution_count": 27,
   "id": "57103395-7e20-4d55-afa0-71da4b53075d",
   "metadata": {},
   "outputs": [
    {
     "data": {
      "text/plain": [
       "'talking crazy crazy helpful think talking tool coach challenge narrate experience case treat respect may find enjoy company'"
      ]
     },
     "execution_count": 27,
     "metadata": {},
     "output_type": "execute_result"
    }
   ],
   "source": [
    "df[\"processed_text\"][1]"
   ]
  },
  {
   "cell_type": "code",
   "execution_count": 71,
   "id": "e3c73d95-837d-4f68-949f-0b286653a060",
   "metadata": {},
   "outputs": [
    {
     "name": "stdout",
     "output_type": "stream",
     "text": [
      "First five rows of combined text and proessed text : \n",
      "                                        combined_text  \\\n",
      "0  143 Miles in 35 Days: Lessons Learned Resting ...   \n",
      "1  Talking to Yourself: Crazy or Crazy Helpful? T...   \n",
      "2  Crenezumab: Trial Will Gauge Whether Alzheimer...   \n",
      "3  Oh, What a Difference She Made If you want to ...   \n",
      "4  Green Superfoods First, the bad news: Soda bre...   \n",
      "\n",
      "                                      processed_text  \n",
      "0  143 mile 35 day lesson learned resting part tr...  \n",
      "1  talking crazy crazy helpful think talking tool...  \n",
      "2  crenezumab trial gauge whether alzheimer drug ...  \n",
      "3  oh difference made want busy keep trying perfe...  \n",
      "4  green superfoods first bad news soda bread cor...  \n"
     ]
    }
   ],
   "source": [
    "print(\"First five rows of combined text and proessed text : \\n\", df[[ \"combined_text\", \"processed_text\"]].head())"
   ]
  },
  {
   "cell_type": "code",
   "execution_count": 85,
   "id": "b458232d-0306-4211-9ad5-e45cc37ffbfa",
   "metadata": {},
   "outputs": [
    {
     "data": {
      "image/png": "[encoded data removed]",
      "text/plain": [
       "<Figure size 1500x500 with 3 Axes>"
      ]
     },
     "metadata": {},
     "output_type": "display_data"
    }
   ],
   "source": [
    "# Analyze text length\n",
    "df['headline_length'] = df['headline'].apply(len)\n",
    "df['short_description_length'] = df['short_description'].apply(len)\n",
    "df['combined_text_length'] = df['combined_text'].apply(len)\n",
    "\n",
    "plt.figure(figsize=(15, 5))\n",
    "\n",
    "plt.subplot(1, 3, 1)\n",
    "sns.histplot(df['headline_length'], bins=50)\n",
    "plt.title('Headline Length Distribution')\n",
    "\n",
    "plt.subplot(1, 3, 2)\n",
    "sns.histplot(df['short_description_length'], bins=50)\n",
    "plt.title('Short Description Length Distribution')\n",
    "\n",
    "plt.subplot(1, 3, 3)\n",
    "sns.histplot(df['combined_text_length'], bins=50)\n",
    "plt.title('Combined Text Length Distribution')\n",
    "\n",
    "plt.tight_layout()\n",
    "plt.show()"
   ]
  },
  {
   "cell_type": "markdown",
   "id": "661fab19-b2ab-45b5-9954-14b22d1f552a",
   "metadata": {},
   "source": [
    "### Key Findings\n",
    "\n",
    "* Headline length Distribution : The distribution is slightly right-skewed, so most of headlines are between 30 to 70 characters. Also very few headlines exceed 100 chracters.\n",
    "* Short Description Length Distribution : There are noticeable peaks around 200 charactres  and most of the short discription falls between 150 to 300 characters.\n",
    "* Commbined text length distribution : The distribution is centered around 150 to 250 characters. This combined input is well suited for text vactorization methods like TF IDF.\n",
    "\n",
    "  Since there is no significant presence of outliers , i ensure and perform the next tasks."
   ]
  },
  {
   "cell_type": "markdown",
   "id": "dd5f68cf-d04a-4b32-a2d4-4d7884cd323d",
   "metadata": {},
   "source": [
    "#### Feature Extraction"
   ]
  },
  {
   "cell_type": "code",
   "execution_count": 30,
   "id": "0a7f4984-93e7-449a-8d57-dbdc4679a813",
   "metadata": {},
   "outputs": [
    {
     "name": "stdout",
     "output_type": "stream",
     "text": [
      "\n",
      "Training data shape: (37865, 10000) (37865,)\n",
      "Testing data shape: (9467, 10000) (9467,)\n"
     ]
    }
   ],
   "source": [
    "#    Feature extraction using Tf-Idf\n",
    "tfidf_vectorizer = TfidfVectorizer(max_features=10000) \n",
    "tfidf_matrix = tfidf_vectorizer.fit_transform(df['processed_text'])\n",
    "\n",
    "#   Defining features (X) and target (y)\n",
    "X = tfidf_matrix\n",
    "y = df['category']\n",
    "\n",
    "#   Splitting the data into into training and test sets\n",
    "X_train, X_test, y_train, y_test = train_test_split(X, y, test_size=0.2, random_state=42)\n",
    "\n",
    "print(\"\\nTraining data shape:\", X_train.shape, y_train.shape)\n",
    "print(\"Testing data shape:\", X_test.shape, y_test.shape)"
   ]
  },
  {
   "cell_type": "markdown",
   "id": "02da1df4-17d3-4549-afa8-178a0c94695e",
   "metadata": {},
   "source": [
    "### Model Develpment and Evaluation"
   ]
  },
  {
   "cell_type": "code",
   "execution_count": 41,
   "id": "8abf4c40-c52b-401c-9f75-c9475d22c992",
   "metadata": {},
   "outputs": [
    {
     "name": "stdout",
     "output_type": "stream",
     "text": [
      "\n",
      "--- Logistic Regression ---\n",
      " \n",
      " Accuracy: 0.8220133093905144\n",
      " \n",
      " Classification Report:\n",
      "                 precision    recall  f1-score   support\n",
      "\n",
      "      BUSINESS       0.79      0.79      0.79       908\n",
      " ENTERTAINMENT       0.79      0.81      0.80       923\n",
      "  FOOD & DRINK       0.86      0.86      0.86       987\n",
      "     PARENTING       0.80      0.79      0.80       900\n",
      "      POLITICS       0.81      0.77      0.79       955\n",
      "        SPORTS       0.89      0.90      0.90       968\n",
      "STYLE & BEAUTY       0.89      0.85      0.87       903\n",
      "        TRAVEL       0.82      0.82      0.82       958\n",
      "      WELLNESS       0.74      0.81      0.77       969\n",
      "    WORLD NEWS       0.84      0.82      0.83       996\n",
      "\n",
      "      accuracy                           0.82      9467\n",
      "     macro avg       0.82      0.82      0.82      9467\n",
      "  weighted avg       0.82      0.82      0.82      9467\n",
      "\n",
      " \n",
      " Confussion Matrix:\n",
      "  [[714  10  21  18  43  14   5  21  37  25]\n",
      " [ 10 752   6  31  17  25  26  24  22  10]\n",
      " [ 12  12 849  17   3   7  19  33  31   4]\n",
      " [ 14  19  16 710  10   9  20  15  83   4]\n",
      " [ 56  24   3  19 732  10   4  14  26  67]\n",
      " [  4  36   2   8  14 872   5   8   9  10]\n",
      " [ 10  42  11  13   8   3 771  18  23   4]\n",
      " [ 20  24  41  10  10  14  10 782  23  24]\n",
      " [ 32  14  36  52  11  12   8  14 784   6]\n",
      " [ 36  17   0   7  59  10   3  26  22 816]]\n"
     ]
    }
   ],
   "source": [
    "#   Logistic Regression\n",
    "\n",
    "lr = LogisticRegression( max_iter = 700 , random_state = 42)\n",
    "lr.fit(X_train, y_train)\n",
    "lr_y_predict = lr.predict(X_test)\n",
    "\n",
    "# Evaluation of Logistic Regression\n",
    "print(\"\\n--- Logistic Regression ---\")\n",
    "print(\" \\n Accuracy:\", accuracy_score(y_test, lr_y_predict))\n",
    "print(\" \\n Classification Report:\\n\", classification_report(y_test, lr_y_predict))\n",
    "print(\" \\n Confussion Matrix:\\n \", confusion_matrix(y_test, lr_y_predict))\n"
   ]
  },
  {
   "cell_type": "code",
   "execution_count": 34,
   "id": "a4519ef6-0c4f-4b2a-83e4-1e9fe8499927",
   "metadata": {},
   "outputs": [
    {
     "name": "stdout",
     "output_type": "stream",
     "text": [
      "\n",
      "--- Naive Bayes ---\n",
      "Accuracy: 0.8073307277912749\n",
      "Classification Report:\n",
      "                 precision    recall  f1-score   support\n",
      "\n",
      "      BUSINESS       0.79      0.71      0.75       908\n",
      " ENTERTAINMENT       0.81      0.79      0.80       923\n",
      "  FOOD & DRINK       0.85      0.87      0.86       987\n",
      "     PARENTING       0.72      0.78      0.75       900\n",
      "      POLITICS       0.80      0.76      0.78       955\n",
      "        SPORTS       0.90      0.87      0.88       968\n",
      "STYLE & BEAUTY       0.87      0.84      0.85       903\n",
      "        TRAVEL       0.80      0.83      0.82       958\n",
      "      WELLNESS       0.71      0.78      0.75       969\n",
      "    WORLD NEWS       0.83      0.84      0.83       996\n",
      "\n",
      "      accuracy                           0.81      9467\n",
      "     macro avg       0.81      0.81      0.81      9467\n",
      "  weighted avg       0.81      0.81      0.81      9467\n",
      "\n",
      "Confussion Matrix:\n",
      " [[648  13  18  35  54  12   5  28  62  33]\n",
      " [  9 729   8  27  16  23  50  20  29  12]\n",
      " [  8   4 858  22   2   5  12  44  31   1]\n",
      " [ 11  24  18 700  12   6  16  18  94   1]\n",
      " [ 55  22   3  19 722  16   4  14  22  78]\n",
      " [  5  36   5  21  14 838   5  15  12  17]\n",
      " [ 10  29  19  26   6   1 758  24  27   3]\n",
      " [ 16  20  39  22   8  13   8 798  13  21]\n",
      " [ 20   9  44  90  11   9   9  13 759   5]\n",
      " [ 34  11   1   9  54   9   4  26  15 833]]\n"
     ]
    }
   ],
   "source": [
    "#    Naive Bayes \n",
    "\n",
    "nb = MultinomialNB()\n",
    "nb.fit(X_train, y_train)\n",
    "nb_y_predict = nb.predict(X_test)\n",
    "\n",
    "# Evaluation of Naive Bayes\n",
    "print(\"\\n--- Naive Bayes ---\")\n",
    "print(\"Accuracy:\", accuracy_score(y_test, nb_y_predict))\n",
    "print(\"Classification Report:\\n\", classification_report(y_test, nb_y_predict))\n",
    "print(\"Confussion Matrix:\\n\", confusion_matrix(y_test, nb_y_predict))"
   ]
  },
  {
   "cell_type": "code",
   "execution_count": 36,
   "id": "a0424a02-9e2e-458d-8852-02db8ee7c820",
   "metadata": {},
   "outputs": [
    {
     "name": "stdout",
     "output_type": "stream",
     "text": [
      "\n",
      "--- Support Vector Machine ---\n",
      "Accuracy: 0.8243371712263653\n",
      "Classification Report:\n",
      "                 precision    recall  f1-score   support\n",
      "\n",
      "      BUSINESS       0.77      0.80      0.79       908\n",
      " ENTERTAINMENT       0.78      0.82      0.80       923\n",
      "  FOOD & DRINK       0.86      0.88      0.87       987\n",
      "     PARENTING       0.78      0.79      0.79       900\n",
      "      POLITICS       0.80      0.77      0.78       955\n",
      "        SPORTS       0.91      0.91      0.91       968\n",
      "STYLE & BEAUTY       0.91      0.86      0.88       903\n",
      "        TRAVEL       0.84      0.81      0.82       958\n",
      "      WELLNESS       0.75      0.78      0.76       969\n",
      "    WORLD NEWS       0.85      0.82      0.83       996\n",
      "\n",
      "      accuracy                           0.82      9467\n",
      "     macro avg       0.83      0.82      0.82      9467\n",
      "  weighted avg       0.83      0.82      0.82      9467\n",
      "\n",
      "Confussion Matrix:\n",
      " [[730  15  17  18  45  10   3  15  37  18]\n",
      " [ 18 760   6  31  21  21  15  19  22  10]\n",
      " [ 11  11 868  16   3   3  16  26  29   4]\n",
      " [ 11  24  15 715  12  10  18  19  74   2]\n",
      " [ 62  23   2  20 732   9   3  14  21  69]\n",
      " [  5  36   2  10  11 880   4   6   6   8]\n",
      " [  9  37  13  16   6   3 777  17  22   3]\n",
      " [ 21  25  46  10  12  15   9 772  24  24]\n",
      " [ 35  23  37  67  10  10   9  14 758   6]\n",
      " [ 40  18   2  10  61  11   3  19  20 812]]\n"
     ]
    }
   ],
   "source": [
    "#   Support Vector Machine\n",
    "\n",
    "svm = SVC( kernel = 'linear', C=1.0)\n",
    "svm.fit(X_train, y_train)\n",
    "svm_y_predict = svm.predict(X_test)\n",
    "\n",
    "# Evaluation of SVM\n",
    "print(\"\\n--- Support Vector Machine ---\")\n",
    "print(\"Accuracy:\", accuracy_score(y_test, svm_y_predict))\n",
    "print(\"Classification Report:\\n\", classification_report(y_test, svm_y_predict))\n",
    "print(\"Confussion Matrix:\\n\" , confusion_matrix(y_test, svm_y_predict))"
   ]
  },
  {
   "cell_type": "code",
   "execution_count": 43,
   "id": "38dc3d44-3291-4e7e-bf63-0336218633f4",
   "metadata": {},
   "outputs": [
    {
     "name": "stdout",
     "output_type": "stream",
     "text": [
      "Logistic Regression Accuracy: 82.20%\n",
      "Naive Bayes :  80.73%\n",
      "Support Vector Machine: 82.43%\n"
     ]
    }
   ],
   "source": [
    "# Comparing Model's Accuracies \n",
    "\n",
    "print(f'Logistic Regression Accuracy: {accuracy_score(y_test, lr_y_predict)*100:.2f}%' )\n",
    "print(f'Naive Bayes :  {accuracy_score(y_test, nb_y_predict)*100:.2f}%')\n",
    "print(f'Support Vector Machine: {accuracy_score(y_test, svm_y_predict)*100:.2f}%' )"
   ]
  },
  {
   "cell_type": "markdown",
   "id": "1e504f16-f7c4-474d-b69a-05914bc2ffcf",
   "metadata": {},
   "source": [
    "Key Finding : We can conclude that SVM performs best among all models, logistic regression also performed better but it is slighly less than SVM."
   ]
  },
  {
   "cell_type": "markdown",
   "id": "d5077a10-0113-4e4c-a6e9-1bf4e1cb206d",
   "metadata": {},
   "source": [
    "#### Predicting a New news article category "
   ]
  },
  {
   "cell_type": "code",
   "execution_count": 49,
   "id": "889e8ff6-75be-4ef3-8957-6462cc2e63a7",
   "metadata": {},
   "outputs": [
    {
     "name": "stdin",
     "output_type": "stream",
     "text": [
      "Enter a news article:  PinkVillas, a new brand of jeans and trouser is new in market.\n"
     ]
    },
    {
     "name": "stdout",
     "output_type": "stream",
     "text": [
      "\n",
      " Category  Prediction: ['BUSINESS']\n"
     ]
    }
   ],
   "source": [
    "new_article = input(\"Enter a news article: \")\n",
    "new_article_processed =  processed_text(new_article)\n",
    "new_article_vectorized = tfidf_vectorizer.transform([new_article_processed])\n",
    "svm_prediction = svm.predict(new_article_vectorized)\n",
    "print(\"\\n Category  Prediction:\", svm_prediction[:])"
   ]
  },
  {
   "cell_type": "markdown",
   "id": "50b9bb42-4365-4b39-9e7b-cbb32af91f16",
   "metadata": {},
   "source": [
    "### Insights from project\n",
    "\n",
    "The data quality and preprocessing had a significant impact on model performance .\n",
    "    \n",
    "TF-IDF was effective for representing article text, balance word frequency and and uniqueness.\n",
    "\n",
    "SVM model performed slightly better than others, suggesting it handled complex decision bountries better.\n",
    "\n",
    "Created an input based prediction tool where user can enter a new article and receive a predicted category. This helped to demostrate the practical application of the model in real time scenarios."
   ]
  },
  {
   "cell_type": "markdown",
   "id": "58395da1-a01f-4db2-aab0-3283965dfed2",
   "metadata": {},
   "source": [
    "### Video Explanation"
   ]
  },
  {
   "cell_type": "markdown",
   "id": "0ac65e72-3b68-4c8a-9dfe-06faae1daea9",
   "metadata": {},
   "source": [
    "https://drive.google.com/file/d/1g7hXb6ikWO060YVxdC9WOtr-7a9P-1fF/view?usp=sharing"
   ]
  }
 ],
 "metadata": {
  "kernelspec": {
   "display_name": "Python [conda env:base] *",
   "language": "python",
   "name": "conda-base-py"
  },
  "language_info": {
   "codemirror_mode": {
    "name": "ipython",
    "version": 3
   },
   "file_extension": ".py",
   "mimetype": "text/x-python",
   "name": "python",
   "nbconvert_exporter": "python",
   "pygments_lexer": "ipython3",
   "version": "3.12.7"
  }
 },
 "nbformat": 4,
 "nbformat_minor": 5
}
